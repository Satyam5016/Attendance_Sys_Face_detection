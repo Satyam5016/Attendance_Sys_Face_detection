{
 "cells": [
  {
   "cell_type": "code",
   "execution_count": 2,
   "id": "ba2e1483-375d-4885-a195-e8b25f65f7fe",
   "metadata": {},
   "outputs": [
    {
     "name": "stdin",
     "output_type": "stream",
     "text": [
      "Enter the name of the person:  satyam\n"
     ]
    },
    {
     "name": "stdout",
     "output_type": "stream",
     "text": [
      "Saved satyam_1.jpg\n"
     ]
    }
   ],
   "source": [
    "import cv2\n",
    "import os\n",
    "\n",
    "# Create a directory to save captured faces\n",
    "if not os.path.exists('faces'):\n",
    "    os.makedirs('faces')\n",
    "\n",
    "cap = cv2.VideoCapture(0)\n",
    "\n",
    "name = input(\"Enter the name of the person: \")\n",
    "count = 0\n",
    "\n",
    "while True:\n",
    "    ret, frame = cap.read()\n",
    "    frame=cv2.flip(frame,1)\n",
    "    if not ret:\n",
    "        break\n",
    "\n",
    "    cv2.imshow(\"Frame\", frame)\n",
    "\n",
    "    # Press 's' to save the image\n",
    "    if cv2.waitKey(1) & 0xFF == ord('s'):\n",
    "        count += 1\n",
    "        cv2.imwrite(f'faces/{name}_{count}.jpg', frame)\n",
    "        print(f'Saved {name}_{count}.jpg')\n",
    "\n",
    "    # Press 'q' to quit\n",
    "    if cv2.waitKey(1) & 0xFF == ord(' '):\n",
    "        break\n",
    "\n",
    "cap.release()\n",
    "cv2.destroyAllWindows()\n"
   ]
  },
  {
   "cell_type": "code",
   "execution_count": null,
   "id": "916d7c58-f505-46c2-8f6a-204dc172e5ef",
   "metadata": {},
   "outputs": [],
   "source": []
  }
 ],
 "metadata": {
  "kernelspec": {
   "display_name": "Python 3 (ipykernel)",
   "language": "python",
   "name": "python3"
  },
  "language_info": {
   "codemirror_mode": {
    "name": "ipython",
    "version": 3
   },
   "file_extension": ".py",
   "mimetype": "text/x-python",
   "name": "python",
   "nbconvert_exporter": "python",
   "pygments_lexer": "ipython3",
   "version": "3.12.1"
  }
 },
 "nbformat": 4,
 "nbformat_minor": 5
}
